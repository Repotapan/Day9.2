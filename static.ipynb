{
 "cells": [
  {
   "cell_type": "code",
   "execution_count": 1,
   "id": "87c2e296-55a2-46c1-bc49-57e83b85de5b",
   "metadata": {},
   "outputs": [],
   "source": [
    "class pwskills:\n",
    "    def student_details(self,name,email,number):\n",
    "        print(name,email,number)"
   ]
  },
  {
   "cell_type": "code",
   "execution_count": 2,
   "id": "17e43d3c-b6c9-48fc-858d-7c2809f79c5d",
   "metadata": {},
   "outputs": [],
   "source": [
    "pw= pwskills()\n"
   ]
  },
  {
   "cell_type": "code",
   "execution_count": 3,
   "id": "243552f2-c488-431c-a007-ce428e3cebd3",
   "metadata": {},
   "outputs": [
    {
     "name": "stdout",
     "output_type": "stream",
     "text": [
      "tapan tpati@gmail.com 8746573777\n"
     ]
    }
   ],
   "source": [
    "pw.student_details(\"tapan\",\"tpati@gmail.com\",8746573777)"
   ]
  },
  {
   "cell_type": "code",
   "execution_count": 8,
   "id": "dde6e503-a53a-43c1-b7d5-7ee06c93b483",
   "metadata": {},
   "outputs": [],
   "source": [
    "class pwskills1:\n",
    "    def student_details(self,name,email,number):\n",
    "        print(name,email,number)\n",
    "    @staticmethod    \n",
    "    def mentor(list_mentor):\n",
    "        print(list_mentor)\n",
    "    def mentor_class(self,mentor_list):\n",
    "        print(mentor_list)"
   ]
  },
  {
   "cell_type": "code",
   "execution_count": 9,
   "id": "33f6f18e-f801-4cc0-9fe7-4531b2c8f7fe",
   "metadata": {},
   "outputs": [
    {
     "name": "stdout",
     "output_type": "stream",
     "text": [
      "['sudh', 'krish']\n"
     ]
    }
   ],
   "source": [
    "pwskills1.mentor([\"sudh\",\"krish\"])"
   ]
  },
  {
   "cell_type": "code",
   "execution_count": 12,
   "id": "e2bd7c8c-c1b1-4a46-9ce9-c1eb7c999335",
   "metadata": {},
   "outputs": [],
   "source": [
    "st1=pwskills1()"
   ]
  },
  {
   "cell_type": "code",
   "execution_count": 13,
   "id": "97670371-9da2-4623-b8c4-ae9127ea0a89",
   "metadata": {},
   "outputs": [],
   "source": [
    "st2=pwskills1()"
   ]
  },
  {
   "cell_type": "code",
   "execution_count": 14,
   "id": "c3f9fc37-855c-472b-a160-47f29e4f0cc4",
   "metadata": {},
   "outputs": [],
   "source": [
    "st3=pwskills1()"
   ]
  },
  {
   "cell_type": "code",
   "execution_count": 23,
   "id": "322a6849-4952-4b9c-8b79-10312b1bc1ed",
   "metadata": {},
   "outputs": [],
   "source": [
    "class pwskills2:\n",
    "    def student_details(self,name,email,number):\n",
    "        print(name,email,number)\n",
    "    @staticmethod    \n",
    "    def mentor(list_mentor):\n",
    "        print(list_mentor)\n",
    "    @classmethod\n",
    "    def class_name(cls):\n",
    "        cls.mentor_class([\"sudh\",\"krish\"])\n",
    "       \n",
    "    def mentor_class(self,mentor_list):\n",
    "        print(mentor_list)"
   ]
  },
  {
   "cell_type": "code",
   "execution_count": null,
   "id": "532d9c2c-a2b2-4c8b-bbe5-b720fa914491",
   "metadata": {},
   "outputs": [],
   "source": []
  }
 ],
 "metadata": {
  "kernelspec": {
   "display_name": "Python 3 (ipykernel)",
   "language": "python",
   "name": "python3"
  },
  "language_info": {
   "codemirror_mode": {
    "name": "ipython",
    "version": 3
   },
   "file_extension": ".py",
   "mimetype": "text/x-python",
   "name": "python",
   "nbconvert_exporter": "python",
   "pygments_lexer": "ipython3",
   "version": "3.10.8"
  }
 },
 "nbformat": 4,
 "nbformat_minor": 5
}
